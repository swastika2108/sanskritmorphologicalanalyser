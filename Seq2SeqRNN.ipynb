{
  "cells": [
    {
      "cell_type": "markdown",
      "metadata": {
        "id": "view-in-github",
        "colab_type": "text"
      },
      "source": [
        "<a href=\"https://colab.research.google.com/github/swastika2108/sanskritmorphologicalanalyser/blob/main/Seq2SeqRNN.ipynb\" target=\"_parent\"><img src=\"https://colab.research.google.com/assets/colab-badge.svg\" alt=\"Open In Colab\"/></a>"
      ]
    },
    {
      "cell_type": "code",
      "execution_count": null,
      "metadata": {
        "colab": {
          "base_uri": "https://localhost:8080/"
        },
        "id": "0RCcvdFQ0UxN",
        "outputId": "cd82540c-afe7-44a8-a7a3-ed99ec15cfea"
      },
      "outputs": [
        {
          "output_type": "stream",
          "name": "stdout",
          "text": [
            "Drive already mounted at /content/drive; to attempt to forcibly remount, call drive.mount(\"/content/drive\", force_remount=True).\n"
          ]
        }
      ],
      "source": [
        "from google.colab import drive\n",
        "drive.mount('/content/drive')"
      ]
    },
    {
      "cell_type": "code",
      "execution_count": null,
      "metadata": {
        "colab": {
          "base_uri": "https://localhost:8080/"
        },
        "id": "oA9fKB650lZd",
        "outputId": "01b7077d-1a77-4248-a5c5-62184d43d85a"
      },
      "outputs": [
        {
          "output_type": "stream",
          "name": "stdout",
          "text": [
            "[Errno 2] No such file or directory: 'drive/MyDrive/Datasets'\n",
            "/content/drive/MyDrive/Datasets\n"
          ]
        }
      ],
      "source": [
        "cd drive/MyDrive/Datasets"
      ]
    },
    {
      "cell_type": "code",
      "execution_count": null,
      "metadata": {
        "id": "-kjpVS_SiiCz"
      },
      "outputs": [],
      "source": [
        "\n",
        "import numpy as np\n",
        "import torch\n",
        "import torch.nn as nn\n",
        "import unicodedata\n",
        "import os\n",
        "import json\n",
        "import io\n",
        "import copy\n",
        "from devconvert import dev2slp, iast2slp, slp2dev, slp2iast, slp2tex, slp2wx, wx2slp, dev2wx\n",
        "\n",
        "# #: Symbol that shows starting of decoding input     #\n",
        "# $: Symbol that shows starting of decoding output    $\n",
        "# @: Symbol that will fill in blank sequence if current batch data size is short than time steps      @"
      ]
    },
    {
      "cell_type": "code",
      "execution_count": null,
      "metadata": {
        "id": "IQg5m7tw0OX0"
      },
      "outputs": [],
      "source": [
        "def make_batch():\n",
        "    input_batch, output_batch, target_batch = [], [], []\n",
        "\n",
        "    for seq in seq_data:\n",
        "        for i in range(2):\n",
        "            #seq[i] = seq[i] + 'P' * (n_step - len(seq[i]))\n",
        "            seq[i] = seq[i] + '@' * (n_step - len(seq[i]))\n",
        "\n",
        "        input = [num_dic[n] for n in seq[0]]\n",
        "        output = [num_dic[n] for n in ('#' + seq[1])]\n",
        "        target = [num_dic[n] for n in (seq[1] + '$')]\n",
        "\n",
        "        input_batch.append(np.eye(n_class)[input])\n",
        "        output_batch.append(np.eye(n_class)[output])\n",
        "        target_batch.append(target) # not one-hot\n",
        "\n",
        "    # make tensor\n",
        "    return torch.FloatTensor(input_batch), torch.FloatTensor(output_batch), torch.LongTensor(target_batch)"
      ]
    },
    {
      "cell_type": "code",
      "execution_count": null,
      "metadata": {
        "id": "hUHTx3_90OX2"
      },
      "outputs": [],
      "source": [
        "# make test batch\n",
        "def make_testbatch(input_word):\n",
        "    input_batch, output_batch = [], []\n",
        "\n",
        "    #input_w = input_word + 'P' * (n_step - len(input_word))\n",
        "    input_w = input_word + '@' * (n_step - len(input_word))\n",
        "    input = [num_dic[n] for n in input_w]\n",
        "    #output = [num_dic[n] for n in 'S' + 'P' * n_step]\n",
        "    output = [num_dic[n] for n in '#' + '@' * n_step]\n",
        "\n",
        "    input_batch = np.eye(n_class)[input]\n",
        "    output_batch = np.eye(n_class)[output]\n",
        "\n",
        "    return torch.FloatTensor(input_batch).unsqueeze(0), torch.FloatTensor(output_batch).unsqueeze(0)"
      ]
    },
    {
      "cell_type": "code",
      "execution_count": null,
      "metadata": {
        "id": "Dxo4p9Ra0OX3"
      },
      "outputs": [],
      "source": [
        "# Model\n",
        "class Seq2Seq(nn.Module):\n",
        "    def __init__(self):\n",
        "        super(Seq2Seq, self).__init__()\n",
        "\n",
        "        self.enc_cell = nn.RNN(input_size=n_class, hidden_size=n_hidden, dropout=0.2,num_layers=3)\n",
        "        self.dec_cell = nn.RNN(input_size=n_class, hidden_size=n_hidden, dropout=0.2,num_layers=3)\n",
        "        self.fc = nn.Linear(n_hidden, n_class)\n",
        "\n",
        "    def forward(self, enc_input, enc_hidden, dec_input):\n",
        "        enc_input = enc_input.transpose(0, 1) # enc_input: [max_len(=n_step, time step), batch_size, n_class]\n",
        "        dec_input = dec_input.transpose(0, 1) # dec_input: [max_len(=n_step, time step), batch_size, n_class]\n",
        "\n",
        "        # enc_states : [num_layers(=1) * num_directions(=1), batch_size, n_hidden]\n",
        "        _, enc_states = self.enc_cell(enc_input, enc_hidden)\n",
        "        # outputs : [max_len+1(=6), batch_size, num_directions(=1) * n_hidden(=128)]\n",
        "        outputs, _ = self.dec_cell(dec_input, enc_states)\n",
        "\n",
        "        model = self.fc(outputs) # model : [max_len+1(=6), batch_size, n_class]\n",
        "        return model"
      ]
    },
    {
      "cell_type": "code",
      "execution_count": null,
      "metadata": {
        "id": "_qPuRC8h0OX4"
      },
      "outputs": [],
      "source": [
        "\"\"\"\n",
        "Preprocessing of the data\n",
        "\"\"\"\n",
        "\n",
        "\n",
        "def normalize_and_iast2wx(text):\n",
        "    \"\"\"\n",
        "    The final normalization followed by transliteration according to the requirement and convenience. Here we use WX to make it look simple.\n",
        "    Input: String -> word\n",
        "    Output: String -> Unicode string normalized with NFC and transliterated to WX\n",
        "    \"\"\"\n",
        "    return (slp2wx.convert(iast2slp.convert(unicodedata.normalize('NFC', text))))\n",
        "\n",
        "def wx2iast(text):\n",
        "    \"\"\"\n",
        "    Converts the notation from wx to iast\n",
        "    Input: String -> in wx notation\n",
        "    Output: String -> in iast notation\n",
        "    \"\"\"\n",
        "    return (slp2iast.convert(wx2slp.convert(text)))\n",
        "\n",
        "def unicode_normalize(dict_item):\n",
        "    \"\"\"\n",
        "    It is recommended to use unicode normalization for the sanskrit strings to avoid potential normalization mismatches.\n",
        "    Input:  Dict -> JSON object for a DCS sentence, an element from JSON List\n",
        "    Output: Dict -> Same content as the input, but all the unicode strings normalized with NFC\n",
        "    \"\"\"\n",
        "    dict_item[\"joint_sentence\"] = normalize_and_iast2wx(dict_item[\"joint_sentence\"]) #joint sentence - input for tasks 1 and 3\n",
        "    dict_item[\"segmented_sentence\"] = (dict_item[\"segmented_sentence\"])  #segmented sentence - input for task 2\n",
        "    dict_item[\"t1_ground_truth\"] = [[normalize_and_iast2wx(x) for x in inner] for inner in dict_item[\"t1_ground_truth\"]]   #ground truth for task 1 - word segmentation\n",
        "    dict_item[\"t2_ground_truth\"] = [[normalize_and_iast2wx(inner[0]), inner[1]] for inner in dict_item[\"t2_ground_truth\"]] #ground truth for task 2 - morphological parsing\n",
        "    dict_item[\"t3_ground_truth\"] = [[[normalize_and_iast2wx(x[0]), normalize_and_iast2wx(x[1]), x[2]] for x in inner] for inner in dict_item[\"t3_ground_truth\"] ]   #ground truth for task 3 - word segmentation and morphological parsing\n",
        "\n",
        "    return dict_item\n",
        "\n",
        "\n",
        "def get_data(data):\n",
        "    \"\"\"\n",
        "    Returns the unicode normalised data from the given data\n",
        "    Input: Data list\n",
        "    Output: List of dictionary items\n",
        "    \"\"\"\n",
        "    normalised_data = list()\n",
        "    for item in data: #iterate over the list of json data to operate on the values\n",
        "\n",
        "        dict_item = unicode_normalize(item) # It is recommended to use unicode normalization\n",
        "                                            # for the sanskrit strings to avoid potential normalization mismatches\n",
        "        normalised_data.append(dict_item)   # List containing all the entries in the json file, but after normalization\n",
        "\n",
        "    return normalised_data\n",
        "\n",
        "\n",
        "def get_task1_IO(json_entry):\n",
        "    \"\"\"\n",
        "    Returns the input (as a string) and the groundtruth (as a list of segmented words) for the task 1: Word segmentation.\n",
        "    Input: json object -> Json object for a DCS sentence\n",
        "    Output: tuple(String, List) -> A tuple of the sentence (words joined with sandhi) and a flattened list of segmented words\n",
        "    \"\"\"\n",
        "    flattened_list = [val for sublist in json_entry['t1_ground_truth'] for val in sublist] # Flatten the nested list to a\n",
        "                                                                                           # single linear list\n",
        "\n",
        "    return (json_entry[\"joint_sentence\"], \" \".join(flattened_list))\n",
        "\n",
        "\n",
        "def createTaskDict(jsonData,taskName=\"t1\"):\n",
        "    \"\"\"\n",
        "    Create a dictionary containing the input and groundtruth for each task. The keys for the dictioanry are the sentence Ids.\n",
        "    Input: Json Dictionary and task name - {t1, t2, t3}\n",
        "    Output: Dictionary containing the task input and ground truth\n",
        "    \"\"\"\n",
        "    task_Dict = dict()\n",
        "\n",
        "    if taskName == \"t1\":\n",
        "        for item in jsonData: # Get the input and ground truth for all the entries in the normalised_data\n",
        "            task_Dict[item[\"sent_id\"]] = get_task1_IO(item)\n",
        "\n",
        "    return task_Dict\n",
        "\n",
        "\n",
        "def get_tasks_data_IO(normalised_data, task):\n",
        "    \"\"\"\n",
        "    Returns the data in the form of (X, y) where X is the input list and y is the expected results list\n",
        "    Input: Normalised data and task\n",
        "    Output: Data list and test list depending on the task provided\n",
        "    \"\"\"\n",
        "    taskDict = createTaskDict(normalised_data,task)\n",
        "\n",
        "#     X = [taskDict.get(key)[0] for key in taskDict.keys()]\n",
        "#     y = [taskDict.get(key)[1] for key in taskDict.keys()]\n",
        "\n",
        "    data_IO = [[taskDict.get(key)[0], taskDict.get(key)[1]] for key in taskDict.keys()]\n",
        "\n",
        "    return data_IO"
      ]
    },
    {
      "cell_type": "code",
      "execution_count": null,
      "metadata": {
        "id": "lNLIlV1s00Lq"
      },
      "outputs": [],
      "source": [
        "device = torch.device(\"cuda\" if torch.cuda.is_available() else \"cpu\")"
      ]
    },
    {
      "cell_type": "code",
      "execution_count": null,
      "metadata": {
        "id": "lL0jzLqd1Fw6"
      },
      "outputs": [],
      "source": [
        "with open('wsmp_train.json', encoding='utf-8') as data_file: #open the json list file\n",
        "    data = json.load(data_file)    # this is a list of json entities each having the inputs and ground truths for the three tasks\n",
        "    normalised_training_data = get_data(data) # list of dictionary items from the training set\n",
        "\n",
        "with open('wsmp_dev.json', encoding='utf-8') as data_file: #open the json list file\n",
        "    data = json.load(data_file)    # this is a list of json entities each having the inputs and ground truths for the three tasks\n",
        "    normalised_dev_data = get_data(data) # list of dictionary items from the development set"
      ]
    },
    {
      "cell_type": "code",
      "execution_count": null,
      "metadata": {
        "colab": {
          "base_uri": "https://localhost:8080/"
        },
        "id": "Qhczu7Vp0OX5",
        "outputId": "6781dac4-ebf3-4a6d-87e7-ce8e015869b0"
      },
      "outputs": [
        {
          "output_type": "stream",
          "name": "stdout",
          "text": [
            "['GatasWayogam yogeSa wawwvajFAnasya kAraNam', 'Gata sWa yogam yoga ISa wawwva jFAnasya kAraNam']\n"
          ]
        }
      ],
      "source": [
        "if __name__ == '__main__':\n",
        "    n_step = 63\n",
        "#     n_step = 216\n",
        "\n",
        "\n",
        "    char_arr = [c for c in '#$@abcdefghijklmnopqrstuvwxyzABCDEFGHIJKLMNOPQRSTUVWXYZ ']\n",
        "    num_dic = {n: i for i, n in enumerate(char_arr)}\n",
        "#     seq_data = [['Bavawi cAwra', 'Bavawi ca awra'], ['BavawaS cAwra', 'BavawaH ca awra'], ['yaWovAca BagavAn XanvanwariH', 'yaWA uvAca BagavAn XanvanwariH'], ['vAwakqcCIwalam loham wqRNApiwwakaPApaham', 'vAwa kqw SIwalam loham wqRNA piwwa kaPa apaham'], ['anupAnam vaxanwyeke wEle yURAmlakAFjikam', 'anupAnam vaxanwi eke wEle yURa amla kAFjikam'], ['agnir uvAca', 'agniH uvAca'], ['vAsukir uvAca', 'vAsukiH uvAca'], ['brahmovAca', 'brahmA uvAca'], ['waWEva nAgarA rAjaF SiSyire brAhmaNAxayaH', 'waWA eva nAgarAH rAjan SiSyire brAhmaNa AxayaH'], ['wawaswu Sayane xivye nAgaxawwe mahABujaH', 'wawaH wu Sayane xivye nAga xawwe mahA BujaH']]\n",
        "\n",
        "    train_data_IO = get_tasks_data_IO(normalised_training_data, \"t1\") # get the training pairs\n",
        "    dev_data_IO = get_tasks_data_IO(normalised_dev_data, \"t1\") # get the dev pairs\n",
        "\n",
        "    print(train_data_IO[0])\n",
        "    seq_data = train_data_IO[:4]\n",
        "\n",
        "    n_class = len(num_dic)\n",
        "    n_hidden = 128\n",
        "    model = Seq2Seq().to(device)\n",
        "\n",
        "    criterion = nn.CrossEntropyLoss()\n"
      ]
    },
    {
      "cell_type": "code",
      "execution_count": null,
      "metadata": {
        "id": "w1OwaC2E8VTR"
      },
      "outputs": [],
      "source": [
        "optimizer = torch.optim.Adam(model.parameters(), lr=0.001,weight_decay=1e-5)\n"
      ]
    },
    {
      "cell_type": "code",
      "execution_count": null,
      "metadata": {
        "id": "ZoW5zR565dQf"
      },
      "outputs": [],
      "source": [
        "input_batch, output_batch, target_batch = make_batch()\n",
        "input_batch, output_batch, target_batch =  input_batch.to(device), output_batch.to(device), target_batch.to(device)\n",
        "batch_size = len(seq_data)\n"
      ]
    },
    {
      "cell_type": "code",
      "source": [
        "import matplotlib.pyplot as plt\n",
        "\n",
        "def plot_loss(loss_fun):\n",
        "    epochs, losses = zip(*loss_fun)\n",
        "    plt.plot(epochs, losses, label='Training Loss')\n",
        "    plt.title('Loss as a function of Epochs')\n",
        "    plt.xlabel('Epochs')\n",
        "    plt.ylabel('Loss')\n",
        "    plt.legend()\n",
        "    plt.show()\n",
        "\n",
        "loss_fn = []"
      ],
      "metadata": {
        "id": "SBvDkzLH3kuU"
      },
      "execution_count": null,
      "outputs": []
    },
    {
      "cell_type": "code",
      "execution_count": null,
      "metadata": {
        "colab": {
          "base_uri": "https://localhost:8080/"
        },
        "id": "67osYs--2ChS",
        "outputId": "ba9647b3-1815-42b1-f583-0cdbac861233"
      },
      "outputs": [
        {
          "output_type": "stream",
          "name": "stdout",
          "text": [
            "Epoch: 10000 cost = 0.051060\n",
            "Epoch: 20000 cost = 0.086868\n",
            "Epoch: 30000 cost = 0.086398\n",
            "Epoch: 40000 cost = 0.086899\n",
            "Epoch: 50000 cost = 0.048226\n",
            "Epoch: 60000 cost = 0.085767\n"
          ]
        }
      ],
      "source": [
        "    for epoch in range(300000):\n",
        "        # make hidden shape [num_layers * num_directions, batch_size, n_hidden]\n",
        "        hidden = torch.zeros(3, batch_size, n_hidden).to(device)\n",
        "\n",
        "        optimizer.zero_grad()\n",
        "        # input_batch : [batch_size, max_len(=n_step, time step), n_class]\n",
        "        # output_batch : [batch_size, max_len+1(=n_step, time step) (becase of 'S' or 'E'), n_class]\n",
        "        # target_batch : [batch_size, max_len+1(=n_step, time step)], not one-hot\n",
        "        output = model(input_batch, hidden, output_batch)\n",
        "\n",
        "        # output : [max_len+1, batch_size, n_class]\n",
        "        output = output.transpose(0, 1) # [batch_size, max_len+1(=6), n_class]\n",
        "        loss = 0\n",
        "        for i in range(0, len(target_batch)):\n",
        "            # output[i] : [max_len+1, n_class, target_batch[i] : max_len+1]\n",
        "            loss += criterion(output[i], target_batch[i])\n",
        "        if (epoch + 1) % 10000 == 0:\n",
        "\n",
        "            print('Epoch:', '%04d' % (epoch + 1), 'cost =', '{:.6f}'.format(loss))\n",
        "            loss_fn.append((epoch+1,loss.cpu().item()\n",
        "))\n",
        "\n",
        "        loss.backward()\n",
        "        optimizer.step()"
      ]
    },
    {
      "cell_type": "code",
      "source": [
        "plot_loss(loss_fn)"
      ],
      "metadata": {
        "colab": {
          "base_uri": "https://localhost:8080/",
          "height": 472
        },
        "id": "g_vLD6Jb4JWX",
        "outputId": "ac3078dd-5847-4086-db22-4e0d70663690"
      },
      "execution_count": null,
      "outputs": [
        {
          "output_type": "display_data",
          "data": {
            "text/plain": [
              "<Figure size 640x480 with 1 Axes>"
            ],
            "image/png": "[encoded data removed]"
          },
          "metadata": {}
        }
      ]
    },
    {
      "cell_type": "code",
      "execution_count": null,
      "metadata": {
        "colab": {
          "base_uri": "https://localhost:8080/"
        },
        "id": "f69WmBiy0OX7",
        "outputId": "f1a0492c-8360-41c9-b91a-b2a3a4a9c99e"
      },
      "outputs": [
        {
          "output_type": "stream",
          "name": "stdout",
          "text": [
            "test\n",
            "['G', 'a', 't', 'a', ' ', ' ', '@', '@', '@', '@', '@', '@', '@', '@', '@', '@', '@', '@', '@', '@', '@', '@', '@', '@', '@', '@', '@', '@', '@', '@', '@', '@', '@', '@', '@', '@', '@', '@', '@', '@', '@', '@', '@', '@', '@', '@', '@', '@', '@', '@', '@', '@', '@', '@', '@', '@', '@', '@', '@', '@', '@', '$', '@', '@']\n",
            "First -> Gata  $\n"
          ]
        }
      ],
      "source": [
        "    # Test\n",
        "    def translate(word):\n",
        "        input_batch, output_batch = make_testbatch(word)\n",
        "        input_batch, output_batch = input_batch.to(device), output_batch.to(device)\n",
        "\n",
        "        # make hidden shape [num_layers * num_directions, batch_size, n_hidden]\n",
        "        hidden = torch.zeros(3, 1, n_hidden).to(device)\n",
        "        output = model(input_batch, hidden, output_batch)\n",
        "        # output : [max_len+1(=6), batch_size(=1), n_class]\n",
        "\n",
        "        predict = output.data.max(2, keepdim=True)[1] # select n_class dimension\n",
        "        #print(predict)\n",
        "        decoded = [char_arr[i] for i in predict]\n",
        "\n",
        "        #end = decoded.index('E')\n",
        "        print(decoded)\n",
        "        translated = ''.join(decoded)\n",
        "\n",
        "        #return translated.replace('P', '')\n",
        "        return translated.replace('@', '')\n",
        "\n",
        "    print('test')\n",
        "    print('First ->', translate(\"Gataswa\"))"
      ]
    }
  ],
  "metadata": {
    "accelerator": "GPU",
    "anaconda-cloud": {},
    "colab": {
      "provenance": [],
      "include_colab_link": true
    },
    "kernelspec": {
      "display_name": "Python 3",
      "language": "python",
      "name": "python3"
    },
    "language_info": {
      "codemirror_mode": {
        "name": "ipython",
        "version": 3
      },
      "file_extension": ".py",
      "mimetype": "text/x-python",
      "name": "python",
      "nbconvert_exporter": "python",
      "pygments_lexer": "ipython3",
      "version": "3.8.10"
    }
  },
  "nbformat": 4,
  "nbformat_minor": 0
}